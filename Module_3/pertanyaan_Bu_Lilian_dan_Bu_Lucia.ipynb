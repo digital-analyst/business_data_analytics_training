{
 "cells": [
  {
   "cell_type": "markdown",
   "metadata": {},
   "source": [
    "## Pertanyaan dari Bu Lilian dan Bu Lucia:"
   ]
  },
  {
   "cell_type": "markdown",
   "metadata": {},
   "source": [
    "Given the two lists below:\n",
    "```\n",
    "    colors = [black, blue, yellow]\n",
    "    shapes = [triangle, box, rectangle]\n",
    "```\n",
    "How do we associate each color and shape across the 2 lists above?"
   ]
  },
  {
   "cell_type": "markdown",
   "metadata": {},
   "source": [
    "## Anwer:"
   ]
  },
  {
   "cell_type": "code",
   "execution_count": 2,
   "metadata": {},
   "outputs": [
    {
     "name": "stdout",
     "output_type": "stream",
     "text": [
      "black triangle\n",
      "black box\n",
      "black rectangle\n",
      "blue triangle\n",
      "blue box\n",
      "blue rectangle\n",
      "yellow triangle\n",
      "yellow box\n",
      "yellow rectangle\n"
     ]
    }
   ],
   "source": [
    "colors = ['black', 'blue', 'yellow']\n",
    "shapes = ['triangle', 'box', 'rectangle']\n",
    "\n",
    "# Use nested (double) for loops\n",
    "\n",
    "for color in colors:\n",
    "    for shape in shapes:\n",
    "        print(color + \" \" + shape)"
   ]
  }
 ],
 "metadata": {
  "kernelspec": {
   "display_name": "Python 3",
   "language": "python",
   "name": "python3"
  },
  "language_info": {
   "codemirror_mode": {
    "name": "ipython",
    "version": 3
   },
   "file_extension": ".py",
   "mimetype": "text/x-python",
   "name": "python",
   "nbconvert_exporter": "python",
   "pygments_lexer": "ipython3",
   "version": "3.7.1"
  }
 },
 "nbformat": 4,
 "nbformat_minor": 2
}
