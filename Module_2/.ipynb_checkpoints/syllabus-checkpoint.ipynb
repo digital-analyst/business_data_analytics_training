{
 "cells": [
  {
   "cell_type": "markdown",
   "metadata": {},
   "source": [
    "Syllabus\n",
    "==="
   ]
  },
  {
   "cell_type": "markdown",
   "metadata": {},
   "source": [
    "[Home](#)"
   ]
  },
  {
   "cell_type": "markdown",
   "metadata": {},
   "source": [
    "Introduction\n",
    "---\n",
    "- Why Python?\n",
    "- Why Jupyter Notebook?\n",
    "- Are there alternatives?"
   ]
  },
  {
   "cell_type": "markdown",
   "metadata": {},
   "source": [
    "Jupyter Notebook Basics\n",
    "---\n",
    "1. Working with Markdown Cells"
   ]
  },
  {
   "cell_type": "markdown",
   "metadata": {},
   "source": [
    "Python Basics\n",
    "---\n",
    "1. <font color=blue>Hello World</font>\n",
    "2. <font color=green>Variables, strings, and Numbers</font>\n",
    "3. <font color=red>List and Tuples</font>\n",
    "4. <font color=pink>Introducing Functions</font>\n",
    "5. <font color=cyan>If Statements</font>\n",
    "6. <font color=brown>While Loops and Input</font>"
   ]
  },
  {
   "cell_type": "markdown",
   "metadata": {},
   "source": [
    "- - -\n",
    "[Home](#)"
   ]
  }
 ],
 "metadata": {
  "kernelspec": {
   "display_name": "Python 3",
   "language": "python",
   "name": "python3"
  },
  "language_info": {
   "codemirror_mode": {
    "name": "ipython",
    "version": 3
   },
   "file_extension": ".py",
   "mimetype": "text/x-python",
   "name": "python",
   "nbconvert_exporter": "python",
   "pygments_lexer": "ipython3",
   "version": "3.7.1"
  }
 },
 "nbformat": 4,
 "nbformat_minor": 1
}
